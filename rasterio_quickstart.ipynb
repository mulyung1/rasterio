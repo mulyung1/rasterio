{
 "cells": [
  {
   "cell_type": "markdown",
   "id": "56b14c38-81bf-48ca-b46d-5d486b9b18bd",
   "metadata": {},
   "source": [
    "rasterio python quickstart\n",
    ">> reading and writing data files using rasterio\n",
    ">> use GeoTIFF format\n",
    ">> file is a 16-bit Landsat 8 imagery of USA's Colorado Plateau, rescaled + dynamically squashed"
   ]
  },
  {
   "cell_type": "code",
   "execution_count": 2,
   "id": "ec98e85b-44ba-47da-9762-bc4356aea0ad",
   "metadata": {
    "scrolled": true
   },
   "outputs": [
    {
     "name": "stdout",
     "output_type": "stream",
     "text": [
      "Collecting rasterio\n",
      "  Downloading rasterio-1.3.10-cp312-cp312-manylinux2014_x86_64.whl.metadata (14 kB)\n",
      "Collecting affine (from rasterio)\n",
      "  Downloading affine-2.4.0-py3-none-any.whl.metadata (4.0 kB)\n",
      "Requirement already satisfied: attrs in ./venv/lib/python3.12/site-packages (from rasterio) (24.2.0)\n",
      "Requirement already satisfied: certifi in ./venv/lib/python3.12/site-packages (from rasterio) (2024.7.4)\n",
      "Requirement already satisfied: click>=4.0 in ./venv/lib/python3.12/site-packages (from rasterio) (8.1.7)\n",
      "Collecting cligj>=0.5 (from rasterio)\n",
      "  Downloading cligj-0.7.2-py3-none-any.whl.metadata (5.0 kB)\n",
      "Requirement already satisfied: numpy in ./venv/lib/python3.12/site-packages (from rasterio) (2.1.0)\n",
      "Collecting snuggs>=1.4.1 (from rasterio)\n",
      "  Downloading snuggs-1.4.7-py3-none-any.whl.metadata (3.4 kB)\n",
      "Collecting click-plugins (from rasterio)\n",
      "  Downloading click_plugins-1.1.1-py2.py3-none-any.whl.metadata (6.4 kB)\n",
      "Requirement already satisfied: setuptools in ./venv/lib/python3.12/site-packages (from rasterio) (73.0.1)\n",
      "Requirement already satisfied: pyparsing>=2.1.6 in ./venv/lib/python3.12/site-packages (from snuggs>=1.4.1->rasterio) (3.1.2)\n",
      "Downloading rasterio-1.3.10-cp312-cp312-manylinux2014_x86_64.whl (21.5 MB)\n",
      "\u001b[2K   \u001b[38;2;114;156;31m━━━━━━━━━━━━━━━━━━━━━━━━━━━━━━━━━━━━━━━━\u001b[0m \u001b[32m21.5/21.5 MB\u001b[0m \u001b[31m16.9 MB/s\u001b[0m eta \u001b[36m0:00:00\u001b[0mm eta \u001b[36m0:00:01\u001b[0m[36m0:00:01\u001b[0m\n",
      "\u001b[?25hDownloading cligj-0.7.2-py3-none-any.whl (7.1 kB)\n",
      "Downloading snuggs-1.4.7-py3-none-any.whl (5.4 kB)\n",
      "Downloading affine-2.4.0-py3-none-any.whl (15 kB)\n",
      "Downloading click_plugins-1.1.1-py2.py3-none-any.whl (7.5 kB)\n",
      "Installing collected packages: snuggs, cligj, click-plugins, affine, rasterio\n",
      "Successfully installed affine-2.4.0 click-plugins-1.1.1 cligj-0.7.2 rasterio-1.3.10 snuggs-1.4.7\n",
      "Note: you may need to restart the kernel to use updated packages.\n"
     ]
    }
   ],
   "source": [
    "pip install rasterio"
   ]
  },
  {
   "cell_type": "code",
   "execution_count": 3,
   "id": "9d793460-8ba1-44b9-82a2-d0192c832207",
   "metadata": {},
   "outputs": [],
   "source": [
    "import rasterio\n",
    "#open the file\n",
    "#open() function takes a path string and returns an opened dataset\n",
    "dataset=rasterio.open('data/temp_kitui.tif')"
   ]
  },
  {
   "cell_type": "markdown",
   "id": "e918c567-426b-4be1-98c4-632575caaa3d",
   "metadata": {},
   "source": [
    "Dataset objects have some of the same attributes as Python file objects."
   ]
  },
  {
   "cell_type": "code",
   "execution_count": 8,
   "id": "3bbfe083-ace1-48b7-94ac-6e172d12e96e",
   "metadata": {},
   "outputs": [
    {
     "data": {
      "text/plain": [
       "'data/temp_kitui.tif'"
      ]
     },
     "execution_count": 8,
     "metadata": {},
     "output_type": "execute_result"
    }
   ],
   "source": [
    "#check the name\n",
    "dataset.name"
   ]
  },
  {
   "cell_type": "code",
   "execution_count": 9,
   "id": "fa44d4b5-573f-459c-83a4-ef9ad7cf556d",
   "metadata": {},
   "outputs": [
    {
     "data": {
      "text/plain": [
       "'r'"
      ]
     },
     "execution_count": 9,
     "metadata": {},
     "output_type": "execute_result"
    }
   ],
   "source": [
    "#check the mode\n",
    "dataset.mode"
   ]
  },
  {
   "cell_type": "markdown",
   "id": "4f2e1405-8541-4fcb-a9b2-d50de2b4a86e",
   "metadata": {},
   "source": [
    "Dataset Attributes\n",
    "access prpoerties of raster data through attributes of opened dataset object"
   ]
  },
  {
   "cell_type": "code",
   "execution_count": 11,
   "id": "0d9806f6-0c46-427f-87c3-4090bc982290",
   "metadata": {},
   "outputs": [
    {
     "data": {
      "text/plain": [
       "1"
      ]
     },
     "execution_count": 11,
     "metadata": {},
     "output_type": "execute_result"
    }
   ],
   "source": [
    "#check the band count\n",
    "dataset.count"
   ]
  },
  {
   "cell_type": "markdown",
   "id": "a34bb635-87a6-45d6-8bd6-4fe05c38c583",
   "metadata": {},
   "source": [
    "dataset objects have bands\n",
    ">>dataset band - an array of values that represent the patrial distribution of a single variable in 2D spaceb\n",
    ">>all band arrays of a dataset have the same no of rows and columns."
   ]
  },
  {
   "cell_type": "code",
   "execution_count": 14,
   "id": "2c447c3c-18f0-4cb7-84b6-d6a3cec96a0c",
   "metadata": {},
   "outputs": [
    {
     "data": {
      "text/plain": [
       "8"
      ]
     },
     "execution_count": 14,
     "metadata": {},
     "output_type": "execute_result"
    }
   ],
   "source": [
    "#check the array width\n",
    "dataset.width"
   ]
  },
  {
   "cell_type": "code",
   "execution_count": 15,
   "id": "c15987cc-bf3f-4c97-9ac5-bfa0d3d370f5",
   "metadata": {},
   "outputs": [
    {
     "data": {
      "text/plain": [
       "17"
      ]
     },
     "execution_count": 15,
     "metadata": {},
     "output_type": "execute_result"
    }
   ],
   "source": [
    "#check array height\n",
    "dataset.height"
   ]
  },
  {
   "cell_type": "code",
   "execution_count": 18,
   "id": "d0a4a880-b961-4c15-8422-f4cfd0682d80",
   "metadata": {},
   "outputs": [
    {
     "data": {
      "text/plain": [
       "BoundingBox(left=37.666666667, bottom=-3.0, right=39.0, top=-0.166666667)"
      ]
     },
     "execution_count": 18,
     "metadata": {},
     "output_type": "execute_result"
    }
   ],
   "source": [
    "#GIS raster datasets are mapped to regions on the earth's surface\n",
    "#check the spatial bounding box for our dataset\n",
    "dataset.bounds"
   ]
  },
  {
   "cell_type": "code",
   "execution_count": null,
   "id": "4725ef43-66df-48e4-b24f-426fa12c3822",
   "metadata": {},
   "outputs": [],
   "source": []
  }
 ],
 "metadata": {
  "kernelspec": {
   "display_name": "Python 3 (ipykernel)",
   "language": "python",
   "name": "python3"
  },
  "language_info": {
   "codemirror_mode": {
    "name": "ipython",
    "version": 3
   },
   "file_extension": ".py",
   "mimetype": "text/x-python",
   "name": "python",
   "nbconvert_exporter": "python",
   "pygments_lexer": "ipython3",
   "version": "3.12.3"
  }
 },
 "nbformat": 4,
 "nbformat_minor": 5
}
