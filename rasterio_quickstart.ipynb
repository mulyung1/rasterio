{
 "cells": [
  {
   "cell_type": "markdown",
   "id": "56b14c38-81bf-48ca-b46d-5d486b9b18bd",
   "metadata": {},
   "source": [
    "rasterio python quickstart\n",
    ">reading and writing data files using rasterio\n",
    ">\n",
    ">use GeoTIFF format\n",
    ">\n",
    ">file is a worlclim imagery of kitui county in Geographic crs, i.e. WGS84"
   ]
  },
  {
   "cell_type": "code",
   "execution_count": 1,
   "id": "8894aa29-76dd-4213-a119-e79b6f035929",
   "metadata": {},
   "outputs": [
    {
     "name": "stdout",
     "output_type": "stream",
     "text": [
      "Requirement already satisfied: rasterio in ./r_venv/lib/python3.12/site-packages (1.3.10)\n",
      "Requirement already satisfied: affine in ./r_venv/lib/python3.12/site-packages (from rasterio) (2.4.0)\n",
      "Requirement already satisfied: attrs in ./r_venv/lib/python3.12/site-packages (from rasterio) (24.2.0)\n",
      "Requirement already satisfied: certifi in ./r_venv/lib/python3.12/site-packages (from rasterio) (2024.7.4)\n",
      "Requirement already satisfied: click>=4.0 in ./r_venv/lib/python3.12/site-packages (from rasterio) (8.1.7)\n",
      "Requirement already satisfied: cligj>=0.5 in ./r_venv/lib/python3.12/site-packages (from rasterio) (0.7.2)\n",
      "Requirement already satisfied: numpy in ./r_venv/lib/python3.12/site-packages (from rasterio) (2.1.0)\n",
      "Requirement already satisfied: snuggs>=1.4.1 in ./r_venv/lib/python3.12/site-packages (from rasterio) (1.4.7)\n",
      "Requirement already satisfied: click-plugins in ./r_venv/lib/python3.12/site-packages (from rasterio) (1.1.1)\n",
      "Requirement already satisfied: setuptools in ./r_venv/lib/python3.12/site-packages (from rasterio) (73.0.1)\n",
      "Requirement already satisfied: pyparsing>=2.1.6 in ./r_venv/lib/python3.12/site-packages (from snuggs>=1.4.1->rasterio) (3.1.4)\n",
      "Note: you may need to restart the kernel to use updated packages.\n"
     ]
    }
   ],
   "source": [
    "pip install rasterio"
   ]
  },
  {
   "cell_type": "markdown",
   "id": "c0a831d7-cb4a-4dd3-8700-984c052ca2b5",
   "metadata": {},
   "source": [
    "# Opening a dataset in reading mode"
   ]
  },
  {
   "cell_type": "code",
   "execution_count": 13,
   "id": "9d793460-8ba1-44b9-82a2-d0192c832207",
   "metadata": {},
   "outputs": [],
   "source": [
    "import rasterio\n",
    "#open the file\n",
    "#open() function takes a path string and returns an opened dataset\n",
    "dataset=rasterio.open('data/reproj_temp_kitui.tif')"
   ]
  },
  {
   "cell_type": "markdown",
   "id": "e918c567-426b-4be1-98c4-632575caaa3d",
   "metadata": {},
   "source": [
    "Dataset objects have some of the same attributes as Python file objects."
   ]
  },
  {
   "cell_type": "code",
   "execution_count": 14,
   "id": "3bbfe083-ace1-48b7-94ac-6e172d12e96e",
   "metadata": {},
   "outputs": [
    {
     "data": {
      "text/plain": [
       "'data/reproj_temp_kitui.tif'"
      ]
     },
     "execution_count": 14,
     "metadata": {},
     "output_type": "execute_result"
    }
   ],
   "source": [
    "#check the name\n",
    "dataset.name"
   ]
  },
  {
   "cell_type": "code",
   "execution_count": 15,
   "id": "fa44d4b5-573f-459c-83a4-ef9ad7cf556d",
   "metadata": {},
   "outputs": [
    {
     "data": {
      "text/plain": [
       "'r'"
      ]
     },
     "execution_count": 15,
     "metadata": {},
     "output_type": "execute_result"
    }
   ],
   "source": [
    "#check the mode\n",
    "dataset.mode"
   ]
  },
  {
   "cell_type": "markdown",
   "id": "4f2e1405-8541-4fcb-a9b2-d50de2b4a86e",
   "metadata": {},
   "source": [
    "# Dataset Attributes\n",
    "access prpoerties of raster data through attributes of opened dataset object"
   ]
  },
  {
   "cell_type": "code",
   "execution_count": 16,
   "id": "0d9806f6-0c46-427f-87c3-4090bc982290",
   "metadata": {},
   "outputs": [
    {
     "data": {
      "text/plain": [
       "1"
      ]
     },
     "execution_count": 16,
     "metadata": {},
     "output_type": "execute_result"
    }
   ],
   "source": [
    "#check the band count\n",
    "dataset.count"
   ]
  },
  {
   "cell_type": "markdown",
   "id": "a34bb635-87a6-45d6-8bd6-4fe05c38c583",
   "metadata": {},
   "source": [
    "dataset objects have bands\n",
    ">dataset band - an array of values that represent the patrial distribution of a single variable in 2D space\n",
    ">\n",
    ">all band arrays of a dataset have the same no of rows and columns."
   ]
  },
  {
   "cell_type": "code",
   "execution_count": 17,
   "id": "2c447c3c-18f0-4cb7-84b6-d6a3cec96a0c",
   "metadata": {},
   "outputs": [
    {
     "data": {
      "text/plain": [
       "8"
      ]
     },
     "execution_count": 17,
     "metadata": {},
     "output_type": "execute_result"
    }
   ],
   "source": [
    "#check the array width\n",
    "dataset.width"
   ]
  },
  {
   "cell_type": "code",
   "execution_count": 18,
   "id": "c15987cc-bf3f-4c97-9ac5-bfa0d3d370f5",
   "metadata": {
    "scrolled": true
   },
   "outputs": [
    {
     "data": {
      "text/plain": [
       "17"
      ]
     },
     "execution_count": 18,
     "metadata": {},
     "output_type": "execute_result"
    }
   ],
   "source": [
    "#check array height\n",
    "dataset.height"
   ]
  },
  {
   "cell_type": "markdown",
   "id": "c6605c97-1ad5-4884-8de9-4db7b819b6ba",
   "metadata": {},
   "source": [
    "# Dataset Georeferencing\n",
    "GIS raster datasets are mapped to regions on the earth's surface\n",
    "\n",
    "our example covers the world from 37.667 to 39.0 degrees, left to right, and 3.0 to 0.1667 degrees bottom to top"
   ]
  },
  {
   "cell_type": "code",
   "execution_count": 19,
   "id": "d0a4a880-b961-4c15-8422-f4cfd0682d80",
   "metadata": {},
   "outputs": [
    {
     "data": {
      "text/plain": [
       "BoundingBox(left=351523.5507, bottom=9668321.852, right=499079.0256, top=9981877.2361)"
      ]
     },
     "execution_count": 19,
     "metadata": {},
     "output_type": "execute_result"
    }
   ],
   "source": [
    "#check the spatial bounding box for our dataset\n",
    "dataset.bounds"
   ]
  },
  {
   "cell_type": "markdown",
   "id": "64bf72ad-9567-4daf-82e7-68b12957b318",
   "metadata": {},
   "source": [
    "Geospatial transform\n",
    ">a fundamental attribute \n",
    "> gives the value of bounds"
   ]
  },
  {
   "cell_type": "code",
   "execution_count": 20,
   "id": "4725ef43-66df-48e4-b24f-426fa12c3822",
   "metadata": {},
   "outputs": [
    {
     "data": {
      "text/plain": [
       "Affine(18444.434362499996, 0.0, 351523.5507,\n",
       "       0.0, -18444.434358823495, 9981877.2361)"
      ]
     },
     "execution_count": 20,
     "metadata": {},
     "output_type": "execute_result"
    }
   ],
   "source": [
    "dataset.transform"
   ]
  },
  {
   "cell_type": "markdown",
   "id": "fa665e2f-3fd3-44a7-adcb-2d9f8edf4eab",
   "metadata": {},
   "source": [
    "Dataset Transform\n",
    ">an affine transformation matrix\n",
    ">\n",
    ">maps pixel locations in (row/col) coords to (x/y) spatial positions"
   ]
  },
  {
   "cell_type": "code",
   "execution_count": 21,
   "id": "18cd8699-9af3-492c-9c6d-25c420fe9dd5",
   "metadata": {},
   "outputs": [
    {
     "data": {
      "text/plain": [
       "(351523.5507, 9981877.2361)"
      ]
     },
     "execution_count": 21,
     "metadata": {},
     "output_type": "execute_result"
    }
   ],
   "source": [
    "#spatial position of upper left corner=matrix * (0,0)\n",
    "dataset.transform *(0,0)"
   ]
  },
  {
   "cell_type": "code",
   "execution_count": 22,
   "id": "4b35eae9-914d-4f21-8692-b3f583e43ed9",
   "metadata": {},
   "outputs": [
    {
     "data": {
      "text/plain": [
       "(499079.0256, 9668321.852)"
      ]
     },
     "execution_count": 22,
     "metadata": {},
     "output_type": "execute_result"
    }
   ],
   "source": [
    "#spatial position of lower right corner = affine matrix * (width, height)\n",
    "dataset.transform * (dataset.width, dataset.height)"
   ]
  },
  {
   "cell_type": "markdown",
   "id": "250de8a9-ccd5-4aca-a2b3-825e3f93f582",
   "metadata": {},
   "source": [
    "Dataset CRS\n",
    ">gives the coordinates i.e the numbers 351523.5507 meters"
   ]
  },
  {
   "cell_type": "code",
   "execution_count": 23,
   "id": "42ca10d8-e345-44d6-a9ce-6ef27eba9d4a",
   "metadata": {},
   "outputs": [
    {
     "data": {
      "text/plain": [
       "CRS.from_epsg(21037)"
      ]
     },
     "execution_count": 23,
     "metadata": {},
     "output_type": "execute_result"
    }
   ],
   "source": [
    "dataset.crs"
   ]
  },
  {
   "cell_type": "markdown",
   "id": "806d9c65-70af-4e28-b5b3-b670d4aa52df",
   "metadata": {},
   "source": [
    "'EPSG 21037' \n",
    ">identifies a particular crs: UTM Zone 37S, which covers a part of the southern hemisphere, including parts of Africa and the Indian Ocean\n",
    ">\n",
    ">using the crs attribute and transform, the georeferencing of a raster dataset is described and a dataset can be compared to othe GIS datasets"
   ]
  },
  {
   "cell_type": "markdown",
   "id": "6a19ff36-2fd1-4857-aca6-a8d0244b2d2e",
   "metadata": {},
   "source": [
    "# Reading raster data\n",
    "using the band's index number, we can access data from a raster band\n",
    "\n",
    "bands are indexed from 1, following the GDAL convention."
   ]
  },
  {
   "cell_type": "code",
   "execution_count": 29,
   "id": "55812db5-73c4-4aad-98f0-85b64b4a8673",
   "metadata": {},
   "outputs": [
    {
     "data": {
      "text/plain": [
       "(1,)"
      ]
     },
     "execution_count": 29,
     "metadata": {},
     "output_type": "execute_result"
    }
   ],
   "source": [
    "#check how many bands are in the dataset\n",
    "dataset.indexes\n"
   ]
  },
  {
   "cell_type": "raw",
   "id": "fffd0a31-b827-49fa-a920-f5b4f3740c7c",
   "metadata": {},
   "source": [
    "read() mtd - returns a Numpy N-D array"
   ]
  },
  {
   "cell_type": "code",
   "execution_count": 30,
   "id": "ec45a92f-9df4-4c6d-906e-77e9d81e8a96",
   "metadata": {},
   "outputs": [
    {
     "data": {
      "text/plain": [
       "array([[-3.4000000e+38, -3.4000000e+38, -3.4000000e+38,  1.7971500e+01,\n",
       "         1.8388750e+01, -3.4000000e+38, -3.4000000e+38, -3.4000000e+38],\n",
       "       [-3.4000000e+38, -3.4000000e+38,  1.7146500e+01,  1.6984751e+01,\n",
       "         1.7568501e+01,  1.8632750e+01, -3.4000000e+38, -3.4000000e+38],\n",
       "       [-3.4000000e+38,  1.6778500e+01,  1.5796500e+01,  1.6490000e+01,\n",
       "         1.7558250e+01,  1.8552500e+01, -3.4000000e+38, -3.4000000e+38],\n",
       "       [-3.4000000e+38,  1.6758249e+01,  1.5932500e+01,  1.7106750e+01,\n",
       "         1.7831249e+01,  1.8738251e+01,  1.9692751e+01, -3.4000000e+38],\n",
       "       [-3.4000000e+38,  1.5766000e+01,  1.6094000e+01,  1.7356750e+01,\n",
       "         1.8530001e+01,  1.9297251e+01,  2.0114250e+01, -3.4000000e+38],\n",
       "       [-3.4000000e+38,  1.5123750e+01,  1.5751750e+01,  1.7250250e+01,\n",
       "         1.8812250e+01,  1.9788500e+01,  2.0401251e+01,  2.1014750e+01],\n",
       "       [ 1.5371250e+01,  1.5319250e+01,  1.6208000e+01,  1.8117250e+01,\n",
       "         1.9103251e+01,  1.9799999e+01,  2.0625000e+01,  2.1068251e+01],\n",
       "       [-3.4000000e+38,  1.6380251e+01,  1.7327999e+01,  1.8877251e+01,\n",
       "         1.9174749e+01,  2.0170000e+01,  2.0757750e+01,  2.1257999e+01],\n",
       "       [-3.4000000e+38,  1.7059500e+01,  1.7570000e+01,  1.9215500e+01,\n",
       "         1.9731001e+01,  2.0307501e+01,  2.0934250e+01,  2.1414499e+01],\n",
       "       [-3.4000000e+38,  1.7462250e+01,  1.7915251e+01,  1.8938000e+01,\n",
       "         1.9606750e+01,  2.0345751e+01,  2.0980000e+01,  2.1410250e+01],\n",
       "       [-3.4000000e+38,  1.7711750e+01,  1.8200750e+01,  1.8612000e+01,\n",
       "         1.9455000e+01,  2.0257999e+01,  2.0997250e+01,  2.1499250e+01],\n",
       "       [-3.4000000e+38, -3.4000000e+38,  1.8223999e+01,  1.8993250e+01,\n",
       "         1.9760500e+01,  2.0472000e+01,  2.1057501e+01,  2.1502750e+01],\n",
       "       [-3.4000000e+38, -3.4000000e+38,  1.8415001e+01,  1.9077749e+01,\n",
       "         1.9996500e+01,  2.0643999e+01,  2.1054501e+01, -3.4000000e+38],\n",
       "       [-3.4000000e+38, -3.4000000e+38, -3.4000000e+38,  1.9219250e+01,\n",
       "         2.0105000e+01,  2.0648001e+01, -3.4000000e+38, -3.4000000e+38],\n",
       "       [-3.4000000e+38, -3.4000000e+38, -3.4000000e+38, -3.4000000e+38,\n",
       "         1.9639750e+01,  2.0377251e+01, -3.4000000e+38, -3.4000000e+38],\n",
       "       [-3.4000000e+38, -3.4000000e+38, -3.4000000e+38, -3.4000000e+38,\n",
       "         1.9643999e+01,  2.0072750e+01,  2.0617250e+01, -3.4000000e+38],\n",
       "       [-3.4000000e+38, -3.4000000e+38, -3.4000000e+38, -3.4000000e+38,\n",
       "        -3.4000000e+38,  1.9894751e+01,  2.0369499e+01,  2.0791000e+01]],\n",
       "      dtype=float32)"
      ]
     },
     "execution_count": 30,
     "metadata": {},
     "output_type": "execute_result"
    }
   ],
   "source": [
    "band1 = dataset.read(1)\n",
    "band1"
   ]
  },
  {
   "cell_type": "markdown",
   "id": "0077f3ab-99a1-4e22-8743-279377bc102f",
   "metadata": {},
   "source": [
    "access array values by their row, column index"
   ]
  },
  {
   "cell_type": "code",
   "execution_count": 31,
   "id": "30f8c60c-792d-4c1e-b413-b818968b4f02",
   "metadata": {},
   "outputs": [
    {
     "data": {
      "text/plain": [
       "np.float32(19.731)"
      ]
     },
     "execution_count": 31,
     "metadata": {},
     "output_type": "execute_result"
    }
   ],
   "source": [
    "band1[dataset.height// 2, dataset.width // 2]"
   ]
  },
  {
   "cell_type": "code",
   "execution_count": null,
   "id": "31f83863-8e64-48ec-81cd-9ae665bcd8cc",
   "metadata": {},
   "outputs": [],
   "source": []
  }
 ],
 "metadata": {
  "kernelspec": {
   "display_name": "Python 3 (ipykernel)",
   "language": "python",
   "name": "python3"
  },
  "language_info": {
   "codemirror_mode": {
    "name": "ipython",
    "version": 3
   },
   "file_extension": ".py",
   "mimetype": "text/x-python",
   "name": "python",
   "nbconvert_exporter": "python",
   "pygments_lexer": "ipython3",
   "version": "3.12.3"
  }
 },
 "nbformat": 4,
 "nbformat_minor": 5
}
