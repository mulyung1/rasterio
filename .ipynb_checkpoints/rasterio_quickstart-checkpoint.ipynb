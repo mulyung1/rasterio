{
 "cells": [
  {
   "cell_type": "markdown",
   "id": "56b14c38-81bf-48ca-b46d-5d486b9b18bd",
   "metadata": {},
   "source": [
    "rasterio python quickstart\n",
    ">reading and writing data files using rasterio\n",
    ">use GeoTIFF format\n",
    ">file is a 16-bit Landsat 8 imagery of USA's Colorado Plateau, rescaled + dynamically squashed"
   ]
  },
  {
   "cell_type": "code",
   "execution_count": 3,
   "id": "9d793460-8ba1-44b9-82a2-d0192c832207",
   "metadata": {},
   "outputs": [],
   "source": [
    "import rasterio\n",
    "#open the file\n",
    "#open() function takes a path string and returns an opened dataset\n",
    "dataset=rasterio.open('data/temp_kitui.tif')"
   ]
  },
  {
   "cell_type": "markdown",
   "id": "e918c567-426b-4be1-98c4-632575caaa3d",
   "metadata": {},
   "source": [
    "Dataset objects have some of the same attributes as Python file objects."
   ]
  },
  {
   "cell_type": "code",
   "execution_count": 8,
   "id": "3bbfe083-ace1-48b7-94ac-6e172d12e96e",
   "metadata": {},
   "outputs": [
    {
     "data": {
      "text/plain": [
       "'data/temp_kitui.tif'"
      ]
     },
     "execution_count": 8,
     "metadata": {},
     "output_type": "execute_result"
    }
   ],
   "source": [
    "#check the name\n",
    "dataset.name"
   ]
  },
  {
   "cell_type": "code",
   "execution_count": 9,
   "id": "fa44d4b5-573f-459c-83a4-ef9ad7cf556d",
   "metadata": {},
   "outputs": [
    {
     "data": {
      "text/plain": [
       "'r'"
      ]
     },
     "execution_count": 9,
     "metadata": {},
     "output_type": "execute_result"
    }
   ],
   "source": [
    "#check the mode\n",
    "dataset.mode"
   ]
  },
  {
   "cell_type": "markdown",
   "id": "4f2e1405-8541-4fcb-a9b2-d50de2b4a86e",
   "metadata": {},
   "source": [
    "Dataset Attributes\n",
    "access prpoerties of raster data through attributes of opened dataset object"
   ]
  },
  {
   "cell_type": "code",
   "execution_count": 11,
   "id": "0d9806f6-0c46-427f-87c3-4090bc982290",
   "metadata": {},
   "outputs": [
    {
     "data": {
      "text/plain": [
       "1"
      ]
     },
     "execution_count": 11,
     "metadata": {},
     "output_type": "execute_result"
    }
   ],
   "source": [
    "#check the band count\n",
    "dataset.count"
   ]
  },
  {
   "cell_type": "markdown",
   "id": "a34bb635-87a6-45d6-8bd6-4fe05c38c583",
   "metadata": {},
   "source": [
    "dataset objects have bands\n",
    ">dataset band - an array of values that represent the patrial distribution of a single variable in 2D spaceb\n",
    ">all band arrays of a dataset have the same no of rows and columns."
   ]
  },
  {
   "cell_type": "code",
   "execution_count": 14,
   "id": "2c447c3c-18f0-4cb7-84b6-d6a3cec96a0c",
   "metadata": {},
   "outputs": [
    {
     "data": {
      "text/plain": [
       "8"
      ]
     },
     "execution_count": 14,
     "metadata": {},
     "output_type": "execute_result"
    }
   ],
   "source": [
    "#check the array width\n",
    "dataset.width"
   ]
  },
  {
   "cell_type": "code",
   "execution_count": 15,
   "id": "c15987cc-bf3f-4c97-9ac5-bfa0d3d370f5",
   "metadata": {},
   "outputs": [
    {
     "data": {
      "text/plain": [
       "17"
      ]
     },
     "execution_count": 15,
     "metadata": {},
     "output_type": "execute_result"
    }
   ],
   "source": [
    "#check array height\n",
    "dataset.height"
   ]
  },
  {
   "cell_type": "code",
   "execution_count": 18,
   "id": "d0a4a880-b961-4c15-8422-f4cfd0682d80",
   "metadata": {},
   "outputs": [
    {
     "data": {
      "text/plain": [
       "BoundingBox(left=37.666666667, bottom=-3.0, right=39.0, top=-0.166666667)"
      ]
     },
     "execution_count": 18,
     "metadata": {},
     "output_type": "execute_result"
    }
   ],
   "source": [
    "#GIS raster datasets are mapped to regions on the earth's surface\n",
    "#check the spatial bounding box for our dataset\n",
    "dataset.bounds"
   ]
  },
  {
   "cell_type": "code",
   "execution_count": null,
   "id": "4725ef43-66df-48e4-b24f-426fa12c3822",
   "metadata": {},
   "outputs": [],
   "source": []
  }
 ],
 "metadata": {
  "kernelspec": {
   "display_name": "Python 3 (ipykernel)",
   "language": "python",
   "name": "python3"
  },
  "language_info": {
   "codemirror_mode": {
    "name": "ipython",
    "version": 3
   },
   "file_extension": ".py",
   "mimetype": "text/x-python",
   "name": "python",
   "nbconvert_exporter": "python",
   "pygments_lexer": "ipython3",
   "version": "3.12.3"
  }
 },
 "nbformat": 4,
 "nbformat_minor": 5
}
